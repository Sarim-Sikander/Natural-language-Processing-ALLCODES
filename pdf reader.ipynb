{
 "cells": [
  {
   "cell_type": "code",
   "execution_count": 3,
   "id": "ethical-yorkshire",
   "metadata": {},
   "outputs": [],
   "source": [
    "import PyPDF2\n",
    "from PyPDF2 import PdfFileReader"
   ]
  },
  {
   "cell_type": "code",
   "execution_count": 4,
   "id": "compliant-montgomery",
   "metadata": {},
   "outputs": [],
   "source": [
    "pdf = open('List.pdf', 'rb')"
   ]
  },
  {
   "cell_type": "code",
   "execution_count": 5,
   "id": "precise-samuel",
   "metadata": {},
   "outputs": [],
   "source": [
    "pdf_reader = PdfFileReader(pdf)"
   ]
  },
  {
   "cell_type": "code",
   "execution_count": 12,
   "id": "dated-imagination",
   "metadata": {},
   "outputs": [
    {
     "name": "stdout",
     "output_type": "stream",
     "text": [
      "1\n"
     ]
    }
   ],
   "source": [
    "print(pdf_reader.numPages)"
   ]
  },
  {
   "cell_type": "code",
   "execution_count": 8,
   "id": "integral-investing",
   "metadata": {},
   "outputs": [],
   "source": [
    "page = pdf_reader.getPage(0)"
   ]
  },
  {
   "cell_type": "code",
   "execution_count": 10,
   "id": "proof-parade",
   "metadata": {},
   "outputs": [
    {
     "name": "stdout",
     "output_type": "stream",
     "text": [
      "User Agents List \n",
      "User Agent\n",
      "Browser\n",
      "OS\n",
      "Mozilla/5.0 (Windows NT 10.0; Win64; x64) \n",
      "AppleWebKit\n",
      "/537.36 (KHTML, like Gecko) \n",
      "Chrome/60.0.3112.113 Safari/537.36\n",
      "Chrome 60\n",
      "Windows\n",
      "Mozilla/5.0 (Windows NT 5.1; rv:7.0.1) Gecko/2010010\n",
      "1 Firefox/7.0.1\n",
      "Firefox\n",
      "7\n",
      "Windows\n",
      "Mozilla/5.0 (Windows NT 10.0; Win64; x64) \n",
      "AppleWeb\n",
      "Kit\n",
      "/537.36 (KHTML, like Gecko) Chrome/51.0.2704.79 \n",
      "Safari/537.36 Edge/14.14393\n",
      "Edge 38\n",
      "Windows\n",
      "User Agent\n",
      "Browser\n",
      "OS\n",
      "Mozilla/5.0 (X11; Linux x86_64) \n",
      "AppleWebKit\n",
      "/537.36 (\n",
      "KHTML, like Gecko) Chrome/44.0.2403.157 Safari/53\n",
      "7.36\n",
      "Chrome 44\n",
      "Linux\n",
      "Mozilla/5.0 (X11; Ubuntu; Linux x86_64; rv:15.0) Geck\n",
      "o/20100101 Firefox/15.0\n",
      "Firefox\n",
      "15\n",
      "Linux\n",
      "Mozilla/5.0 (X11; Linux x86_64; rv:45.0) Gecko/20100\n",
      "101 Thunderbird/45.3.0\n",
      "Thunderbird 45.3\n",
      "Linux\n",
      "User Agent\n",
      "Browser\n",
      "OS\n",
      "Mozilla/5.0 (Macintosh; Intel Mac OS X 10_10_5) \n",
      "Appl\n",
      "eWebKit\n",
      "/603.3.8 (KHTML, like Gecko) Version/10.1.2 \n",
      "Safari/603.3.8\n",
      "Safari\n",
      "10.1\n",
      "Mac OS\n",
      "X\n",
      "Mozilla/5.0 (Macintosh; Intel Mac OS X 10_11_6) \n",
      "Appl\n",
      "eWebKit\n",
      "/537.36 (KHTML, like Gecko) Chrome/52.0.27\n",
      "43.116 Safari/537.36\n",
      "Chrome 52\n",
      "Mac OS\n",
      "X\n",
      "Mozilla/5.0 (Macintosh; Intel Mac OS X 10_11_2) \n",
      "Appl\n",
      "eWebKit\n",
      "/601.3.9 (KHTML, like Gecko)\n",
      "Webkit\n",
      "based \n",
      "browser\n",
      "Mac OS\n",
      "X\n",
      "Note:\n",
      "All these user agents are obtained from \n",
      "whatismybrower\n",
      "\n"
     ]
    }
   ],
   "source": [
    "print(page.extractText())"
   ]
  },
  {
   "cell_type": "code",
   "execution_count": 13,
   "id": "purple-zimbabwe",
   "metadata": {},
   "outputs": [],
   "source": [
    "pdf.close()"
   ]
  },
  {
   "cell_type": "code",
   "execution_count": null,
   "id": "funky-cleanup",
   "metadata": {},
   "outputs": [],
   "source": []
  }
 ],
 "metadata": {
  "kernelspec": {
   "display_name": "Python 3",
   "language": "python",
   "name": "python3"
  },
  "language_info": {
   "codemirror_mode": {
    "name": "ipython",
    "version": 3
   },
   "file_extension": ".py",
   "mimetype": "text/x-python",
   "name": "python",
   "nbconvert_exporter": "python",
   "pygments_lexer": "ipython3",
   "version": "3.8.5"
  }
 },
 "nbformat": 4,
 "nbformat_minor": 5
}
