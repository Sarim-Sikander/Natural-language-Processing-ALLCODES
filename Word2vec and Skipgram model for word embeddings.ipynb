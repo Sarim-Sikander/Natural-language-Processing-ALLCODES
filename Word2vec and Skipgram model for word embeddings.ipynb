{
 "cells": [
  {
   "cell_type": "markdown",
   "id": "competent-distinction",
   "metadata": {},
   "source": [
    "# SKIP GRAM TECHNIQUE OF WORD EMBEDDINGS "
   ]
  },
  {
   "cell_type": "code",
   "execution_count": 1,
   "id": "champion-scoop",
   "metadata": {},
   "outputs": [],
   "source": [
    "sentences = [['I', 'love', 'nlp'],\n",
    "['I', 'will', 'learn', 'nlp', 'in', '2','months'],\n",
    "['nlp', 'is', 'future'],\n",
    "[ 'nlp', 'saves', 'time', 'and', 'solves',\n",
    "'lot', 'of', 'industry', 'problems'],\n",
    "['nlp', 'uses', 'machine', 'learning']]"
   ]
  },
  {
   "cell_type": "code",
   "execution_count": 5,
   "id": "formal-plane",
   "metadata": {},
   "outputs": [],
   "source": [
    "import gensim\n",
    "from gensim.models import Word2Vec\n",
    "from sklearn.decomposition import PCA\n",
    "import matplotlib.pyplot as plt"
   ]
  },
  {
   "cell_type": "code",
   "execution_count": 10,
   "id": "figured-population",
   "metadata": {},
   "outputs": [],
   "source": [
    "skipgram = Word2Vec(sentences, size = 20, window=3, min_count=1, sg=1)"
   ]
  },
  {
   "cell_type": "code",
   "execution_count": 11,
   "id": "native-vessel",
   "metadata": {},
   "outputs": [
    {
     "name": "stdout",
     "output_type": "stream",
     "text": [
      "[ 0.01631922  0.01980026 -0.01094356  0.02237906 -0.01864366  0.00650193\n",
      " -0.02463605  0.00018709  0.02249522  0.00690468 -0.01976094  0.00459866\n",
      "  0.00393321 -0.01779214 -0.00137465  0.01124399  0.01796717 -0.02322656\n",
      " -0.0050192  -0.01188708]\n"
     ]
    },
    {
     "name": "stderr",
     "output_type": "stream",
     "text": [
      "<ipython-input-11-6d28080ea719>:1: DeprecationWarning: Call to deprecated `__getitem__` (Method will be removed in 4.0.0, use self.wv.__getitem__() instead).\n",
      "  print(skipgram['love'])\n"
     ]
    }
   ],
   "source": [
    "print(skipgram['love'])"
   ]
  },
  {
   "cell_type": "code",
   "execution_count": 12,
   "id": "innocent-marking",
   "metadata": {},
   "outputs": [],
   "source": [
    "skipgram.save('skipgram.bin')"
   ]
  },
  {
   "cell_type": "code",
   "execution_count": 13,
   "id": "interesting-maker",
   "metadata": {},
   "outputs": [],
   "source": [
    "skipgram = Word2Vec.load('skipgram.bin')"
   ]
  },
  {
   "cell_type": "code",
   "execution_count": 14,
   "id": "conceptual-hostel",
   "metadata": {},
   "outputs": [
    {
     "data": {
      "text/plain": [
       "<gensim.models.word2vec.Word2Vec at 0x1e7fff7a4f0>"
      ]
     },
     "execution_count": 14,
     "metadata": {},
     "output_type": "execute_result"
    }
   ],
   "source": [
    "skipgram"
   ]
  },
  {
   "cell_type": "code",
   "execution_count": 15,
   "id": "separated-drunk",
   "metadata": {},
   "outputs": [
    {
     "name": "stderr",
     "output_type": "stream",
     "text": [
      "<ipython-input-15-a333293ce2ea>:1: DeprecationWarning: Call to deprecated `__getitem__` (Method will be removed in 4.0.0, use self.wv.__getitem__() instead).\n",
      "  X = skipgram[skipgram.wv.vocab]\n"
     ]
    }
   ],
   "source": [
    "X = skipgram[skipgram.wv.vocab]\n",
    "pca = PCA(n_components=2)\n",
    "result = pca.fit_transform(X)"
   ]
  },
  {
   "cell_type": "code",
   "execution_count": 18,
   "id": "german-crazy",
   "metadata": {},
   "outputs": [
    {
     "data": {
      "image/png": "[encoded data removed]",
      "text/plain": [
       "<Figure size 1080x648 with 1 Axes>"
      ]
     },
     "metadata": {
      "needs_background": "light"
     },
     "output_type": "display_data"
    }
   ],
   "source": [
    "plt.figure(figsize=(15,9))\n",
    "plt.scatter(result[:,0], result[:,1])\n",
    "words = list(skipgram.wv.vocab)\n",
    "for i, word in enumerate(words):\n",
    "    plt.annotate(word, xy=(result[i, 0], result[i, 1]))\n",
    "plt.show()"
   ]
  },
  {
   "cell_type": "markdown",
   "id": "american-taste",
   "metadata": {},
   "source": [
    "# CONTINUOUS BAG OF WORDS"
   ]
  },
  {
   "cell_type": "code",
   "execution_count": 19,
   "id": "alike-fault",
   "metadata": {},
   "outputs": [],
   "source": [
    "cbow = Word2Vec(sentences, size=50, sg=1,window=3,min_count=1)"
   ]
  },
  {
   "cell_type": "code",
   "execution_count": 20,
   "id": "extreme-google",
   "metadata": {},
   "outputs": [
    {
     "name": "stdout",
     "output_type": "stream",
     "text": [
      "Word2Vec(vocab=21, size=50, alpha=0.025)\n"
     ]
    }
   ],
   "source": [
    "print(cbow)"
   ]
  },
  {
   "cell_type": "code",
   "execution_count": 21,
   "id": "widespread-relation",
   "metadata": {},
   "outputs": [
    {
     "name": "stdout",
     "output_type": "stream",
     "text": [
      "[-1.6674284e-03  2.4643815e-03 -5.8362926e-03  5.4506687e-03\n",
      "  8.3714109e-03 -1.0050485e-03  5.0791679e-03 -2.9533398e-05\n",
      "  7.2011082e-03  2.1174221e-04 -7.3674750e-03  4.9917283e-03\n",
      "  7.8171883e-03 -1.5196659e-03 -7.5488188e-03 -5.6516831e-03\n",
      " -9.7939577e-03  7.4345164e-04  5.0675818e-03  4.9586967e-03\n",
      " -7.6805088e-03 -1.4450989e-03 -2.4516967e-03  7.3007485e-03\n",
      " -8.6226007e-03  6.6557131e-03 -1.6635929e-03 -6.3803573e-03\n",
      "  9.5284013e-03 -9.9726599e-03 -7.6891934e-03 -5.6594131e-03\n",
      " -7.5072278e-03 -7.0431246e-03 -9.8441560e-03 -5.3270380e-03\n",
      "  7.1435212e-03  5.8608940e-03 -8.7211700e-03 -7.6629366e-03\n",
      " -1.1690822e-03  6.6513275e-03 -5.2793962e-03  4.9660052e-03\n",
      "  8.4085716e-03 -6.1407657e-03 -6.2736403e-03  2.6437256e-03\n",
      "  4.3164045e-03  1.4886592e-03]\n"
     ]
    },
    {
     "name": "stderr",
     "output_type": "stream",
     "text": [
      "<ipython-input-21-1aa55d1be8b3>:1: DeprecationWarning: Call to deprecated `__getitem__` (Method will be removed in 4.0.0, use self.wv.__getitem__() instead).\n",
      "  print(cbow['nlp'])\n"
     ]
    }
   ],
   "source": [
    "print(cbow['nlp'])"
   ]
  },
  {
   "cell_type": "code",
   "execution_count": 22,
   "id": "significant-valve",
   "metadata": {},
   "outputs": [],
   "source": [
    "cbow.save('cbow.bin')"
   ]
  },
  {
   "cell_type": "code",
   "execution_count": 23,
   "id": "aware-durham",
   "metadata": {},
   "outputs": [],
   "source": [
    "cbow = Word2Vec.load('cbow.bin')"
   ]
  },
  {
   "cell_type": "code",
   "execution_count": 24,
   "id": "eastern-crash",
   "metadata": {},
   "outputs": [
    {
     "name": "stderr",
     "output_type": "stream",
     "text": [
      "<ipython-input-24-fb8ffaa725df>:1: DeprecationWarning: Call to deprecated `__getitem__` (Method will be removed in 4.0.0, use self.wv.__getitem__() instead).\n",
      "  X = cbow[cbow.wv.vocab]\n"
     ]
    }
   ],
   "source": [
    "X = cbow[cbow.wv.vocab]\n",
    "pca = PCA(n_components=2)\n",
    "result = pca.fit_transform(X)"
   ]
  },
  {
   "cell_type": "code",
   "execution_count": 25,
   "id": "heard-michael",
   "metadata": {},
   "outputs": [
    {
     "data": {
      "image/png": "[encoded data removed]",
      "text/plain": [
       "<Figure size 432x288 with 1 Axes>"
      ]
     },
     "metadata": {
      "needs_background": "light"
     },
     "output_type": "display_data"
    }
   ],
   "source": [
    "plt.scatter(result[:, 0], result[:, 1])\n",
    "words = list(cbow.wv.vocab)\n",
    "for i, word in enumerate(words):\n",
    "    plt.annotate(word, xy=(result[i, 0], result[i, 1]))\n",
    "plt.show()"
   ]
  },
  {
   "cell_type": "code",
   "execution_count": 31,
   "id": "numerical-exploration",
   "metadata": {},
   "outputs": [],
   "source": [
    "model = gensim.models.KeyedVectors.load_word2vec_format('GoogleNews-vectors-negative300.bin', binary=True)"
   ]
  },
  {
   "cell_type": "code",
   "execution_count": 32,
   "id": "equivalent-camera",
   "metadata": {},
   "outputs": [
    {
     "name": "stdout",
     "output_type": "stream",
     "text": [
      "0.40797037\n"
     ]
    }
   ],
   "source": [
    "print(model.similarity('this','is'))"
   ]
  },
  {
   "cell_type": "code",
   "execution_count": 33,
   "id": "eight-sullivan",
   "metadata": {},
   "outputs": [
    {
     "name": "stdout",
     "output_type": "stream",
     "text": [
      "0.05720439\n"
     ]
    }
   ],
   "source": [
    "print (model.similarity('post', 'book'))"
   ]
  },
  {
   "cell_type": "code",
   "execution_count": 35,
   "id": "boxed-track",
   "metadata": {},
   "outputs": [
    {
     "name": "stderr",
     "output_type": "stream",
     "text": [
      "C:\\Users\\sarim\\anaconda3\\envs\\myenv\\lib\\site-packages\\gensim\\models\\keyedvectors.py:877: FutureWarning: arrays to stack must be passed as a \"sequence\" type such as list or tuple. Support for non-sequence iterables such as generators is deprecated as of NumPy 1.16 and will raise an error in the future.\n",
      "  vectors = vstack(self.word_vec(word, use_norm=True) for word in used_words).astype(REAL)\n"
     ]
    },
    {
     "data": {
      "text/plain": [
       "'cereal'"
      ]
     },
     "execution_count": 35,
     "metadata": {},
     "output_type": "execute_result"
    }
   ],
   "source": [
    "model.doesnt_match('breakfast cereal dinner lunch'.split())"
   ]
  },
  {
   "cell_type": "code",
   "execution_count": 39,
   "id": "vertical-feeling",
   "metadata": {},
   "outputs": [
    {
     "data": {
      "text/plain": [
       "[('monarch', 0.5956358313560486),\n",
       " ('kings', 0.5700516104698181),\n",
       " ('prince', 0.5437701940536499),\n",
       " ('princess', 0.5197287797927856),\n",
       " ('royal', 0.5041717290878296),\n",
       " ('ruler', 0.4921566843986511),\n",
       " ('crown_prince', 0.4911947548389435),\n",
       " ('Eugene_Ionesco_absurdist_comedy', 0.4789333939552307),\n",
       " ('queens', 0.47192883491516113),\n",
       " ('princes', 0.47129952907562256)]"
      ]
     },
     "execution_count": 39,
     "metadata": {},
     "output_type": "execute_result"
    }
   ],
   "source": [
    "model.most_similar(positive=['queen', 'king'], negative=['women'])"
   ]
  },
  {
   "cell_type": "code",
   "execution_count": 43,
   "id": "compressed-judge",
   "metadata": {},
   "outputs": [
    {
     "name": "stderr",
     "output_type": "stream",
     "text": [
      "<ipython-input-43-a594f9e47393>:3: DeprecationWarning: Call to deprecated `wv` (Attribute will be removed in 4.0.0, use self instead).\n",
      "  words = list(model.wv.vocab)\n"
     ]
    },
    {
     "ename": "IndexError",
     "evalue": "index 21 is out of bounds for axis 0 with size 21",
     "output_type": "error",
     "traceback": [
      "\u001b[1;31m---------------------------------------------------------------------------\u001b[0m",
      "\u001b[1;31mIndexError\u001b[0m                                Traceback (most recent call last)",
      "\u001b[1;32m<ipython-input-43-a594f9e47393>\u001b[0m in \u001b[0;36m<module>\u001b[1;34m\u001b[0m\n\u001b[0;32m      3\u001b[0m \u001b[0mwords\u001b[0m \u001b[1;33m=\u001b[0m \u001b[0mlist\u001b[0m\u001b[1;33m(\u001b[0m\u001b[0mmodel\u001b[0m\u001b[1;33m.\u001b[0m\u001b[0mwv\u001b[0m\u001b[1;33m.\u001b[0m\u001b[0mvocab\u001b[0m\u001b[1;33m)\u001b[0m\u001b[1;33m\u001b[0m\u001b[1;33m\u001b[0m\u001b[0m\n\u001b[0;32m      4\u001b[0m \u001b[1;32mfor\u001b[0m \u001b[0mi\u001b[0m\u001b[1;33m,\u001b[0m \u001b[0mword\u001b[0m \u001b[1;32min\u001b[0m \u001b[0menumerate\u001b[0m\u001b[1;33m(\u001b[0m\u001b[0mwords\u001b[0m\u001b[1;33m)\u001b[0m\u001b[1;33m:\u001b[0m\u001b[1;33m\u001b[0m\u001b[1;33m\u001b[0m\u001b[0m\n\u001b[1;32m----> 5\u001b[1;33m     \u001b[0mplt\u001b[0m\u001b[1;33m.\u001b[0m\u001b[0mannotate\u001b[0m\u001b[1;33m(\u001b[0m\u001b[0mword\u001b[0m\u001b[1;33m,\u001b[0m \u001b[0mxy\u001b[0m\u001b[1;33m=\u001b[0m\u001b[1;33m(\u001b[0m\u001b[0mresult\u001b[0m\u001b[1;33m[\u001b[0m\u001b[0mi\u001b[0m\u001b[1;33m,\u001b[0m \u001b[1;36m0\u001b[0m\u001b[1;33m]\u001b[0m\u001b[1;33m,\u001b[0m \u001b[0mresult\u001b[0m\u001b[1;33m[\u001b[0m\u001b[0mi\u001b[0m\u001b[1;33m,\u001b[0m \u001b[1;36m1\u001b[0m\u001b[1;33m]\u001b[0m\u001b[1;33m)\u001b[0m\u001b[1;33m)\u001b[0m\u001b[1;33m\u001b[0m\u001b[1;33m\u001b[0m\u001b[0m\n\u001b[0m\u001b[0;32m      6\u001b[0m \u001b[0mplt\u001b[0m\u001b[1;33m.\u001b[0m\u001b[0mshow\u001b[0m\u001b[1;33m(\u001b[0m\u001b[1;33m)\u001b[0m\u001b[1;33m\u001b[0m\u001b[1;33m\u001b[0m\u001b[0m\n",
      "\u001b[1;31mIndexError\u001b[0m: index 21 is out of bounds for axis 0 with size 21"
     ]
    },
    {
     "data": {
      "image/png": "[encoded data removed]",
      "text/plain": [
       "<Figure size 1080x648 with 1 Axes>"
      ]
     },
     "metadata": {
      "needs_background": "light"
     },
     "output_type": "display_data"
    }
   ],
   "source": [
    "plt.figure(figsize=(15,9))\n",
    "plt.scatter(result[:,0], result[:,1])\n",
    "words = list(model.wv.vocab)\n",
    "for i, word in enumerate(words):\n",
    "    plt.annotate(word, xy=(result[i, 0], result[i, 1]))\n",
    "plt.show()"
   ]
  },
  {
   "cell_type": "code",
   "execution_count": 44,
   "id": "lesbian-jacket",
   "metadata": {},
   "outputs": [],
   "source": [
    "from gensim.models import FastText\n",
    "from sklearn.decomposition import PCA\n",
    "from matplotlib import pyplot"
   ]
  },
  {
   "cell_type": "code",
   "execution_count": 45,
   "id": "indian-consideration",
   "metadata": {},
   "outputs": [],
   "source": [
    "fast = FastText(sentences,size=20, window=1, min_count=1,workers=5, min_n=1, max_n=2)"
   ]
  },
  {
   "cell_type": "code",
   "execution_count": 46,
   "id": "laughing-forest",
   "metadata": {},
   "outputs": [
    {
     "name": "stdout",
     "output_type": "stream",
     "text": [
      "[ 0.00145743 -0.006103   -0.01052622 -0.00311103 -0.00338806  0.02404632\n",
      " -0.00938473  0.00470077 -0.00037666 -0.00319065 -0.01831873 -0.00377998\n",
      " -0.00250528 -0.0063827   0.00522308  0.01522697  0.02165839 -0.00143036\n",
      " -0.00438009  0.00490688]\n"
     ]
    },
    {
     "name": "stderr",
     "output_type": "stream",
     "text": [
      "<ipython-input-46-9660a93a0b3c>:1: DeprecationWarning: Call to deprecated `__getitem__` (Method will be removed in 4.0.0, use self.wv.__getitem__() instead).\n",
      "  print(fast['nlp'])\n"
     ]
    }
   ],
   "source": [
    "print(fast['nlp'])"
   ]
  },
  {
   "cell_type": "code",
   "execution_count": 47,
   "id": "sufficient-insulin",
   "metadata": {},
   "outputs": [
    {
     "name": "stdout",
     "output_type": "stream",
     "text": [
      "[-0.00551768 -0.00133838 -0.00853625  0.00362653 -0.0089807   0.022962\n",
      " -0.00074487  0.00164554 -0.02352585 -0.00652109 -0.0067275   0.01114251\n",
      "  0.00089385 -0.02170741 -0.00463046 -0.00650469  0.00407186  0.01711867\n",
      " -0.00594492 -0.01274448]\n"
     ]
    },
    {
     "name": "stderr",
     "output_type": "stream",
     "text": [
      "<ipython-input-47-23abf1de9426>:1: DeprecationWarning: Call to deprecated `__getitem__` (Method will be removed in 4.0.0, use self.wv.__getitem__() instead).\n",
      "  print(fast['deep'])\n"
     ]
    }
   ],
   "source": [
    "print(fast['deep'])"
   ]
  },
  {
   "cell_type": "code",
   "execution_count": 50,
   "id": "referenced-government",
   "metadata": {},
   "outputs": [],
   "source": [
    "fast.save('fast.bin')"
   ]
  },
  {
   "cell_type": "code",
   "execution_count": 51,
   "id": "express-mining",
   "metadata": {},
   "outputs": [],
   "source": [
    "fast = Word2Vec.load('fast.bin')"
   ]
  },
  {
   "cell_type": "code",
   "execution_count": 52,
   "id": "animal-large",
   "metadata": {},
   "outputs": [
    {
     "name": "stderr",
     "output_type": "stream",
     "text": [
      "<ipython-input-52-99cfd4e447a0>:1: DeprecationWarning: Call to deprecated `__getitem__` (Method will be removed in 4.0.0, use self.wv.__getitem__() instead).\n",
      "  X = fast[fast.wv.vocab]\n"
     ]
    }
   ],
   "source": [
    "X = fast[fast.wv.vocab]\n",
    "pca = PCA(n_components=2)\n",
    "result = pca.fit_transform(X)"
   ]
  },
  {
   "cell_type": "code",
   "execution_count": 53,
   "id": "addressed-walnut",
   "metadata": {},
   "outputs": [
    {
     "data": {
      "image/png": "[encoded data removed]",
      "text/plain": [
       "<Figure size 432x288 with 1 Axes>"
      ]
     },
     "metadata": {
      "needs_background": "light"
     },
     "output_type": "display_data"
    }
   ],
   "source": [
    "pyplot.scatter(result[:, 0], result[:, 1])\n",
    "words = list(fast.wv.vocab)\n",
    "for i, word in enumerate(words):\n",
    "    pyplot.annotate(word, xy=(result[i, 0], result[i, 1]))\n",
    "pyplot.show()"
   ]
  },
  {
   "cell_type": "code",
   "execution_count": null,
   "id": "pressing-bible",
   "metadata": {},
   "outputs": [],
   "source": []
  }
 ],
 "metadata": {
  "kernelspec": {
   "display_name": "Python 3",
   "language": "python",
   "name": "python3"
  },
  "language_info": {
   "codemirror_mode": {
    "name": "ipython",
    "version": 3
   },
   "file_extension": ".py",
   "mimetype": "text/x-python",
   "name": "python",
   "nbconvert_exporter": "python",
   "pygments_lexer": "ipython3",
   "version": "3.8.5"
  }
 },
 "nbformat": 4,
 "nbformat_minor": 5
}
